{
  "nbformat": 4,
  "nbformat_minor": 0,
  "metadata": {
    "colab": {
      "provenance": []
    },
    "kernelspec": {
      "name": "python3",
      "display_name": "Python 3"
    },
    "language_info": {
      "name": "python"
    }
  },
  "cells": [
    {
      "cell_type": "code",
      "execution_count": null,
      "metadata": {
        "id": "WnnKRQ1YmtnU"
      },
      "outputs": [],
      "source": [
        "import numpy as np\n",
        "import pandas as pd\n",
        "import sklearn.preprocessing\n",
        "from sklearn.ensemble import RandomForestClassifier\n",
        "from sklearn.metrics import accuracy_score\n",
        "from sklearn.model_selection import train_test_split, GridSearchCV"
      ]
    },
    {
      "cell_type": "code",
      "source": [
        "train_data = pd.read_csv(\"/content/Train_data.csv\")\n",
        "#test_data = pd.read_csv(\"/content/Test_data.csv\")"
      ],
      "metadata": {
        "id": "Lu2pIq0-p9aY"
      },
      "execution_count": null,
      "outputs": []
    },
    {
      "cell_type": "code",
      "source": [
        "train_data_df = pd.DataFrame(train_data)\n",
        "print(train_data_df.head())\n",
        "print(train_data_df.shape)"
      ],
      "metadata": {
        "colab": {
          "base_uri": "https://localhost:8080/"
        },
        "id": "o6CoMDrEqneU",
        "outputId": "093c3a70-d082-4afc-cd05-633d173d653b"
      },
      "execution_count": null,
      "outputs": [
        {
          "output_type": "stream",
          "name": "stdout",
          "text": [
            "   duration protocol_type   service flag  src_bytes  dst_bytes  land  \\\n",
            "0         0           tcp  ftp_data   SF        491          0     0   \n",
            "1         0           udp     other   SF        146          0     0   \n",
            "2         0           tcp   private   S0          0          0     0   \n",
            "3         0           tcp      http   SF        232       8153     0   \n",
            "4         0           tcp      http   SF        199        420     0   \n",
            "\n",
            "   wrong_fragment  urgent  hot  ...  dst_host_srv_count  \\\n",
            "0               0       0    0  ...                  25   \n",
            "1               0       0    0  ...                   1   \n",
            "2               0       0    0  ...                  26   \n",
            "3               0       0    0  ...                 255   \n",
            "4               0       0    0  ...                 255   \n",
            "\n",
            "   dst_host_same_srv_rate  dst_host_diff_srv_rate  \\\n",
            "0                    0.17                    0.03   \n",
            "1                    0.00                    0.60   \n",
            "2                    0.10                    0.05   \n",
            "3                    1.00                    0.00   \n",
            "4                    1.00                    0.00   \n",
            "\n",
            "   dst_host_same_src_port_rate  dst_host_srv_diff_host_rate  \\\n",
            "0                         0.17                         0.00   \n",
            "1                         0.88                         0.00   \n",
            "2                         0.00                         0.00   \n",
            "3                         0.03                         0.04   \n",
            "4                         0.00                         0.00   \n",
            "\n",
            "   dst_host_serror_rate  dst_host_srv_serror_rate  dst_host_rerror_rate  \\\n",
            "0                  0.00                      0.00                  0.05   \n",
            "1                  0.00                      0.00                  0.00   \n",
            "2                  1.00                      1.00                  0.00   \n",
            "3                  0.03                      0.01                  0.00   \n",
            "4                  0.00                      0.00                  0.00   \n",
            "\n",
            "   dst_host_srv_rerror_rate    class  \n",
            "0                      0.00   normal  \n",
            "1                      0.00   normal  \n",
            "2                      0.00  anomaly  \n",
            "3                      0.01   normal  \n",
            "4                      0.00   normal  \n",
            "\n",
            "[5 rows x 42 columns]\n",
            "(25192, 42)\n"
          ]
        }
      ]
    },
    {
      "cell_type": "code",
      "source": [
        "test_data_df = pd.DataFrame(test_data)\n",
        "print(test_data_df.head())\n",
        "print(test_data_df.shape)"
      ],
      "metadata": {
        "colab": {
          "base_uri": "https://localhost:8080/"
        },
        "id": "GYj9rDE9rAvM",
        "outputId": "488e5853-4cab-4a55-9ffe-ad677e01e7f7"
      },
      "execution_count": null,
      "outputs": [
        {
          "output_type": "stream",
          "name": "stdout",
          "text": [
            "   duration protocol_type   service  flag  src_bytes  dst_bytes  land  \\\n",
            "0         0           tcp   private   REJ          0          0     0   \n",
            "1         0           tcp   private   REJ          0          0     0   \n",
            "2         2           tcp  ftp_data    SF      12983          0     0   \n",
            "3         0          icmp     eco_i    SF         20          0     0   \n",
            "4         1           tcp    telnet  RSTO          0         15     0   \n",
            "\n",
            "   wrong_fragment  urgent  hot  ...  dst_host_count  dst_host_srv_count  \\\n",
            "0               0       0    0  ...             255                  10   \n",
            "1               0       0    0  ...             255                   1   \n",
            "2               0       0    0  ...             134                  86   \n",
            "3               0       0    0  ...               3                  57   \n",
            "4               0       0    0  ...              29                  86   \n",
            "\n",
            "   dst_host_same_srv_rate  dst_host_diff_srv_rate  \\\n",
            "0                    0.04                    0.06   \n",
            "1                    0.00                    0.06   \n",
            "2                    0.61                    0.04   \n",
            "3                    1.00                    0.00   \n",
            "4                    0.31                    0.17   \n",
            "\n",
            "   dst_host_same_src_port_rate  dst_host_srv_diff_host_rate  \\\n",
            "0                         0.00                         0.00   \n",
            "1                         0.00                         0.00   \n",
            "2                         0.61                         0.02   \n",
            "3                         1.00                         0.28   \n",
            "4                         0.03                         0.02   \n",
            "\n",
            "   dst_host_serror_rate  dst_host_srv_serror_rate  dst_host_rerror_rate  \\\n",
            "0                   0.0                       0.0                  1.00   \n",
            "1                   0.0                       0.0                  1.00   \n",
            "2                   0.0                       0.0                  0.00   \n",
            "3                   0.0                       0.0                  0.00   \n",
            "4                   0.0                       0.0                  0.83   \n",
            "\n",
            "   dst_host_srv_rerror_rate  \n",
            "0                      1.00  \n",
            "1                      1.00  \n",
            "2                      0.00  \n",
            "3                      0.00  \n",
            "4                      0.71  \n",
            "\n",
            "[5 rows x 41 columns]\n",
            "(22544, 41)\n"
          ]
        }
      ]
    },
    {
      "cell_type": "code",
      "source": [
        "# Train Data with class label {normal, anomaly}\n",
        "set(train_data_df).difference(set(test_data_df))"
      ],
      "metadata": {
        "colab": {
          "base_uri": "https://localhost:8080/"
        },
        "id": "5lU1FBt4spzJ",
        "outputId": "369c49a6-2683-4f7f-a2e2-b12442d01c99"
      },
      "execution_count": null,
      "outputs": [
        {
          "output_type": "execute_result",
          "data": {
            "text/plain": [
              "{'class'}"
            ]
          },
          "metadata": {},
          "execution_count": 5
        }
      ]
    },
    {
      "cell_type": "code",
      "source": [
        "# filter is the features you select\n",
        "filter = ['duration', 'protocol_type', 'service', 'flag', 'src_bytes', 'dst_bytes', 'class']\n",
        "train_data_df = train_data_df[filter]"
      ],
      "metadata": {
        "id": "hG-q0JUGwvbP"
      },
      "execution_count": null,
      "outputs": []
    },
    {
      "cell_type": "code",
      "source": [
        "train_data_df.describe()"
      ],
      "metadata": {
        "colab": {
          "base_uri": "https://localhost:8080/",
          "height": 300
        },
        "id": "4kXHg789xMwb",
        "outputId": "d4a9af78-384a-4ceb-df7e-1661affc19b5"
      },
      "execution_count": null,
      "outputs": [
        {
          "output_type": "execute_result",
          "data": {
            "text/plain": [
              "           duration     src_bytes     dst_bytes\n",
              "count  25192.000000  2.519200e+04  2.519200e+04\n",
              "mean     305.054104  2.433063e+04  3.491847e+03\n",
              "std     2686.555640  2.410805e+06  8.883072e+04\n",
              "min        0.000000  0.000000e+00  0.000000e+00\n",
              "25%        0.000000  0.000000e+00  0.000000e+00\n",
              "50%        0.000000  4.400000e+01  0.000000e+00\n",
              "75%        0.000000  2.790000e+02  5.302500e+02\n",
              "max    42862.000000  3.817091e+08  5.151385e+06"
            ],
            "text/html": [
              "\n",
              "  <div id=\"df-ef6b32dc-2fe3-4978-884b-46c063ee0d68\">\n",
              "    <div class=\"colab-df-container\">\n",
              "      <div>\n",
              "<style scoped>\n",
              "    .dataframe tbody tr th:only-of-type {\n",
              "        vertical-align: middle;\n",
              "    }\n",
              "\n",
              "    .dataframe tbody tr th {\n",
              "        vertical-align: top;\n",
              "    }\n",
              "\n",
              "    .dataframe thead th {\n",
              "        text-align: right;\n",
              "    }\n",
              "</style>\n",
              "<table border=\"1\" class=\"dataframe\">\n",
              "  <thead>\n",
              "    <tr style=\"text-align: right;\">\n",
              "      <th></th>\n",
              "      <th>duration</th>\n",
              "      <th>src_bytes</th>\n",
              "      <th>dst_bytes</th>\n",
              "    </tr>\n",
              "  </thead>\n",
              "  <tbody>\n",
              "    <tr>\n",
              "      <th>count</th>\n",
              "      <td>25192.000000</td>\n",
              "      <td>2.519200e+04</td>\n",
              "      <td>2.519200e+04</td>\n",
              "    </tr>\n",
              "    <tr>\n",
              "      <th>mean</th>\n",
              "      <td>305.054104</td>\n",
              "      <td>2.433063e+04</td>\n",
              "      <td>3.491847e+03</td>\n",
              "    </tr>\n",
              "    <tr>\n",
              "      <th>std</th>\n",
              "      <td>2686.555640</td>\n",
              "      <td>2.410805e+06</td>\n",
              "      <td>8.883072e+04</td>\n",
              "    </tr>\n",
              "    <tr>\n",
              "      <th>min</th>\n",
              "      <td>0.000000</td>\n",
              "      <td>0.000000e+00</td>\n",
              "      <td>0.000000e+00</td>\n",
              "    </tr>\n",
              "    <tr>\n",
              "      <th>25%</th>\n",
              "      <td>0.000000</td>\n",
              "      <td>0.000000e+00</td>\n",
              "      <td>0.000000e+00</td>\n",
              "    </tr>\n",
              "    <tr>\n",
              "      <th>50%</th>\n",
              "      <td>0.000000</td>\n",
              "      <td>4.400000e+01</td>\n",
              "      <td>0.000000e+00</td>\n",
              "    </tr>\n",
              "    <tr>\n",
              "      <th>75%</th>\n",
              "      <td>0.000000</td>\n",
              "      <td>2.790000e+02</td>\n",
              "      <td>5.302500e+02</td>\n",
              "    </tr>\n",
              "    <tr>\n",
              "      <th>max</th>\n",
              "      <td>42862.000000</td>\n",
              "      <td>3.817091e+08</td>\n",
              "      <td>5.151385e+06</td>\n",
              "    </tr>\n",
              "  </tbody>\n",
              "</table>\n",
              "</div>\n",
              "      <button class=\"colab-df-convert\" onclick=\"convertToInteractive('df-ef6b32dc-2fe3-4978-884b-46c063ee0d68')\"\n",
              "              title=\"Convert this dataframe to an interactive table.\"\n",
              "              style=\"display:none;\">\n",
              "        \n",
              "  <svg xmlns=\"http://www.w3.org/2000/svg\" height=\"24px\"viewBox=\"0 0 24 24\"\n",
              "       width=\"24px\">\n",
              "    <path d=\"M0 0h24v24H0V0z\" fill=\"none\"/>\n",
              "    <path d=\"M18.56 5.44l.94 2.06.94-2.06 2.06-.94-2.06-.94-.94-2.06-.94 2.06-2.06.94zm-11 1L8.5 8.5l.94-2.06 2.06-.94-2.06-.94L8.5 2.5l-.94 2.06-2.06.94zm10 10l.94 2.06.94-2.06 2.06-.94-2.06-.94-.94-2.06-.94 2.06-2.06.94z\"/><path d=\"M17.41 7.96l-1.37-1.37c-.4-.4-.92-.59-1.43-.59-.52 0-1.04.2-1.43.59L10.3 9.45l-7.72 7.72c-.78.78-.78 2.05 0 2.83L4 21.41c.39.39.9.59 1.41.59.51 0 1.02-.2 1.41-.59l7.78-7.78 2.81-2.81c.8-.78.8-2.07 0-2.86zM5.41 20L4 18.59l7.72-7.72 1.47 1.35L5.41 20z\"/>\n",
              "  </svg>\n",
              "      </button>\n",
              "      \n",
              "  <style>\n",
              "    .colab-df-container {\n",
              "      display:flex;\n",
              "      flex-wrap:wrap;\n",
              "      gap: 12px;\n",
              "    }\n",
              "\n",
              "    .colab-df-convert {\n",
              "      background-color: #E8F0FE;\n",
              "      border: none;\n",
              "      border-radius: 50%;\n",
              "      cursor: pointer;\n",
              "      display: none;\n",
              "      fill: #1967D2;\n",
              "      height: 32px;\n",
              "      padding: 0 0 0 0;\n",
              "      width: 32px;\n",
              "    }\n",
              "\n",
              "    .colab-df-convert:hover {\n",
              "      background-color: #E2EBFA;\n",
              "      box-shadow: 0px 1px 2px rgba(60, 64, 67, 0.3), 0px 1px 3px 1px rgba(60, 64, 67, 0.15);\n",
              "      fill: #174EA6;\n",
              "    }\n",
              "\n",
              "    [theme=dark] .colab-df-convert {\n",
              "      background-color: #3B4455;\n",
              "      fill: #D2E3FC;\n",
              "    }\n",
              "\n",
              "    [theme=dark] .colab-df-convert:hover {\n",
              "      background-color: #434B5C;\n",
              "      box-shadow: 0px 1px 3px 1px rgba(0, 0, 0, 0.15);\n",
              "      filter: drop-shadow(0px 1px 2px rgba(0, 0, 0, 0.3));\n",
              "      fill: #FFFFFF;\n",
              "    }\n",
              "  </style>\n",
              "\n",
              "      <script>\n",
              "        const buttonEl =\n",
              "          document.querySelector('#df-ef6b32dc-2fe3-4978-884b-46c063ee0d68 button.colab-df-convert');\n",
              "        buttonEl.style.display =\n",
              "          google.colab.kernel.accessAllowed ? 'block' : 'none';\n",
              "\n",
              "        async function convertToInteractive(key) {\n",
              "          const element = document.querySelector('#df-ef6b32dc-2fe3-4978-884b-46c063ee0d68');\n",
              "          const dataTable =\n",
              "            await google.colab.kernel.invokeFunction('convertToInteractive',\n",
              "                                                     [key], {});\n",
              "          if (!dataTable) return;\n",
              "\n",
              "          const docLinkHtml = 'Like what you see? Visit the ' +\n",
              "            '<a target=\"_blank\" href=https://colab.research.google.com/notebooks/data_table.ipynb>data table notebook</a>'\n",
              "            + ' to learn more about interactive tables.';\n",
              "          element.innerHTML = '';\n",
              "          dataTable['output_type'] = 'display_data';\n",
              "          await google.colab.output.renderOutput(dataTable, element);\n",
              "          const docLink = document.createElement('div');\n",
              "          docLink.innerHTML = docLinkHtml;\n",
              "          element.appendChild(docLink);\n",
              "        }\n",
              "      </script>\n",
              "    </div>\n",
              "  </div>\n",
              "  "
            ]
          },
          "metadata": {},
          "execution_count": 7
        }
      ]
    },
    {
      "cell_type": "code",
      "source": [
        "train_data['class'].value_counts()"
      ],
      "metadata": {
        "colab": {
          "base_uri": "https://localhost:8080/"
        },
        "id": "MxCQTeXcxkn9",
        "outputId": "28129138-ff41-4d12-ab0f-e6a90eaa6706"
      },
      "execution_count": null,
      "outputs": [
        {
          "output_type": "execute_result",
          "data": {
            "text/plain": [
              "normal     13449\n",
              "anomaly    11743\n",
              "Name: class, dtype: int64"
            ]
          },
          "metadata": {},
          "execution_count": 8
        }
      ]
    },
    {
      "cell_type": "markdown",
      "source": [
        "#Feature Engineering\n",
        "##protocol_type"
      ],
      "metadata": {
        "id": "yDrI_RzTyYZx"
      }
    },
    {
      "cell_type": "code",
      "source": [
        "# Convert protocol_type type column into numerical values (For matrix calculation)\n",
        "packets = train_data_df['protocol_type']\n",
        "for i in range(len(packets)):\n",
        "  packet = packets[i]\n",
        "  if packet == 'tcp':\n",
        "    train_data_df.loc[i, 'protocol_type_n'] = 0\n",
        "  elif packet == 'udp':\n",
        "    train_data_df.loc[i, 'protocol_type_n'] = 1\n",
        "  elif packet == 'icmp':\n",
        "    train_data_df.loc[i, 'protocol_type_n'] = 2"
      ],
      "metadata": {
        "id": "kUt1pnP7yivI"
      },
      "execution_count": null,
      "outputs": []
    },
    {
      "cell_type": "code",
      "source": [
        "train_data_df['protocol_type_n'].unique()"
      ],
      "metadata": {
        "colab": {
          "base_uri": "https://localhost:8080/"
        },
        "id": "7Naes8OK9KX2",
        "outputId": "d4275995-e1d8-4bc5-b23f-349e9783e408"
      },
      "execution_count": null,
      "outputs": [
        {
          "output_type": "execute_result",
          "data": {
            "text/plain": [
              "array([0., 1., 2.])"
            ]
          },
          "metadata": {},
          "execution_count": 10
        }
      ]
    },
    {
      "cell_type": "markdown",
      "source": [
        "##service"
      ],
      "metadata": {
        "id": "1JyMuhsS9zkE"
      }
    },
    {
      "cell_type": "code",
      "source": [
        "print(train_data_df['service'].unique())"
      ],
      "metadata": {
        "colab": {
          "base_uri": "https://localhost:8080/"
        },
        "id": "fwhQL77l91W_",
        "outputId": "b9829333-c355-4a5a-e8fe-e379bb7403be"
      },
      "execution_count": null,
      "outputs": [
        {
          "output_type": "stream",
          "name": "stdout",
          "text": [
            "['ftp_data' 'other' 'private' 'http' 'remote_job' 'name' 'netbios_ns'\n",
            " 'eco_i' 'mtp' 'telnet' 'finger' 'domain_u' 'supdup' 'uucp_path' 'Z39_50'\n",
            " 'smtp' 'csnet_ns' 'uucp' 'netbios_dgm' 'urp_i' 'auth' 'domain' 'ftp'\n",
            " 'bgp' 'ldap' 'ecr_i' 'gopher' 'vmnet' 'systat' 'http_443' 'efs' 'whois'\n",
            " 'imap4' 'iso_tsap' 'echo' 'klogin' 'link' 'sunrpc' 'login' 'kshell'\n",
            " 'sql_net' 'time' 'hostnames' 'exec' 'ntp_u' 'discard' 'nntp' 'courier'\n",
            " 'ctf' 'ssh' 'daytime' 'shell' 'netstat' 'pop_3' 'nnsp' 'IRC' 'pop_2'\n",
            " 'printer' 'tim_i' 'pm_dump' 'red_i' 'netbios_ssn' 'rje' 'X11' 'urh_i'\n",
            " 'http_8001']\n"
          ]
        }
      ]
    },
    {
      "cell_type": "code",
      "source": [
        "service_dict = dict()\n",
        "for i, service in enumerate(train_data_df['service'].unique()):\n",
        "  service_dict[service] = i\n",
        "print(service_dict)"
      ],
      "metadata": {
        "colab": {
          "base_uri": "https://localhost:8080/"
        },
        "id": "JbFjBfOY_ALx",
        "outputId": "7a1c1338-b0b1-4456-b040-c4a89d91e82b"
      },
      "execution_count": null,
      "outputs": [
        {
          "output_type": "stream",
          "name": "stdout",
          "text": [
            "{'ftp_data': 0, 'other': 1, 'private': 2, 'http': 3, 'remote_job': 4, 'name': 5, 'netbios_ns': 6, 'eco_i': 7, 'mtp': 8, 'telnet': 9, 'finger': 10, 'domain_u': 11, 'supdup': 12, 'uucp_path': 13, 'Z39_50': 14, 'smtp': 15, 'csnet_ns': 16, 'uucp': 17, 'netbios_dgm': 18, 'urp_i': 19, 'auth': 20, 'domain': 21, 'ftp': 22, 'bgp': 23, 'ldap': 24, 'ecr_i': 25, 'gopher': 26, 'vmnet': 27, 'systat': 28, 'http_443': 29, 'efs': 30, 'whois': 31, 'imap4': 32, 'iso_tsap': 33, 'echo': 34, 'klogin': 35, 'link': 36, 'sunrpc': 37, 'login': 38, 'kshell': 39, 'sql_net': 40, 'time': 41, 'hostnames': 42, 'exec': 43, 'ntp_u': 44, 'discard': 45, 'nntp': 46, 'courier': 47, 'ctf': 48, 'ssh': 49, 'daytime': 50, 'shell': 51, 'netstat': 52, 'pop_3': 53, 'nnsp': 54, 'IRC': 55, 'pop_2': 56, 'printer': 57, 'tim_i': 58, 'pm_dump': 59, 'red_i': 60, 'netbios_ssn': 61, 'rje': 62, 'X11': 63, 'urh_i': 64, 'http_8001': 65}\n"
          ]
        }
      ]
    },
    {
      "cell_type": "code",
      "source": [
        "for row, service in enumerate(train_data_df['service']):\n",
        "  train_data_df.loc[row, \"service_n\"] = service_dict[service]"
      ],
      "metadata": {
        "id": "lMLCl9fjAfM6"
      },
      "execution_count": null,
      "outputs": []
    },
    {
      "cell_type": "code",
      "source": [
        "train_data_df['service_n'].unique()"
      ],
      "metadata": {
        "colab": {
          "base_uri": "https://localhost:8080/"
        },
        "id": "rLvBldE9BnG2",
        "outputId": "fa264e7b-9bf7-4cd4-d227-70b55f892422"
      },
      "execution_count": null,
      "outputs": [
        {
          "output_type": "execute_result",
          "data": {
            "text/plain": [
              "array([ 0.,  1.,  2.,  3.,  4.,  5.,  6.,  7.,  8.,  9., 10., 11., 12.,\n",
              "       13., 14., 15., 16., 17., 18., 19., 20., 21., 22., 23., 24., 25.,\n",
              "       26., 27., 28., 29., 30., 31., 32., 33., 34., 35., 36., 37., 38.,\n",
              "       39., 40., 41., 42., 43., 44., 45., 46., 47., 48., 49., 50., 51.,\n",
              "       52., 53., 54., 55., 56., 57., 58., 59., 60., 61., 62., 63., 64.,\n",
              "       65.])"
            ]
          },
          "metadata": {},
          "execution_count": 14
        }
      ]
    },
    {
      "cell_type": "markdown",
      "source": [
        "##flag"
      ],
      "metadata": {
        "id": "TXUWbeDSCGlg"
      }
    },
    {
      "cell_type": "code",
      "source": [
        "print(train_data_df['flag'].unique())"
      ],
      "metadata": {
        "colab": {
          "base_uri": "https://localhost:8080/"
        },
        "id": "nonU0qG3CIFH",
        "outputId": "3002323b-976a-4a42-fd8b-dfea30749ce0"
      },
      "execution_count": null,
      "outputs": [
        {
          "output_type": "stream",
          "name": "stdout",
          "text": [
            "['SF' 'S0' 'REJ' 'RSTR' 'SH' 'RSTO' 'S1' 'RSTOS0' 'S3' 'S2' 'OTH']\n"
          ]
        }
      ]
    },
    {
      "cell_type": "code",
      "source": [
        "flag_dict = {}\n",
        "for i, flag in enumerate(train_data_df['flag'].unique()):\n",
        "  flag_dict[flag] = i"
      ],
      "metadata": {
        "id": "SOlT6l-ECO1d"
      },
      "execution_count": null,
      "outputs": []
    },
    {
      "cell_type": "code",
      "source": [
        "for row, flag in enumerate(train_data_df['flag']):\n",
        "  train_data_df.loc[row, 'flag_n'] = flag_dict[flag]"
      ],
      "metadata": {
        "id": "fl3HSCcvNqpo"
      },
      "execution_count": null,
      "outputs": []
    },
    {
      "cell_type": "code",
      "source": [
        "train_data_df['flag_n'].unique()"
      ],
      "metadata": {
        "colab": {
          "base_uri": "https://localhost:8080/"
        },
        "id": "AZAAv_w4N8HM",
        "outputId": "d899f382-14de-4636-a8bb-b4b370a07585"
      },
      "execution_count": null,
      "outputs": [
        {
          "output_type": "execute_result",
          "data": {
            "text/plain": [
              "array([ 0.,  1.,  2.,  3.,  4.,  5.,  6.,  7.,  8.,  9., 10.])"
            ]
          },
          "metadata": {},
          "execution_count": 18
        }
      ]
    },
    {
      "cell_type": "markdown",
      "source": [
        "##class (which we want to predict)"
      ],
      "metadata": {
        "id": "i7797pRVOCR_"
      }
    },
    {
      "cell_type": "code",
      "source": [
        "res_labels = train_data_df['class']\n",
        "for i in range(len(res_labels)):\n",
        "  res = res_labels[i]\n",
        "  if res == 'normal':\n",
        "    train_data_df.loc[i, 'class_n'] = 0\n",
        "  elif res == 'anomaly':\n",
        "    train_data_df.loc[i, 'class_n'] = 1"
      ],
      "metadata": {
        "id": "xls7RfbGOFSs"
      },
      "execution_count": null,
      "outputs": []
    },
    {
      "cell_type": "code",
      "source": [
        "train_data_df['class_n'].unique()"
      ],
      "metadata": {
        "colab": {
          "base_uri": "https://localhost:8080/"
        },
        "id": "e3bkAz_2OVeq",
        "outputId": "2d33751f-5261-4439-845d-aaaaebc21682"
      },
      "execution_count": null,
      "outputs": [
        {
          "output_type": "execute_result",
          "data": {
            "text/plain": [
              "array([0., 1.])"
            ]
          },
          "metadata": {},
          "execution_count": 20
        }
      ]
    },
    {
      "cell_type": "markdown",
      "source": [
        "##train-to-test split"
      ],
      "metadata": {
        "id": "C_bd-_wIPpMl"
      }
    },
    {
      "cell_type": "code",
      "source": [
        "# Features we select\n",
        "filter_features = ['duration', 'protocol_type_n', 'service_n', 'flag_n', 'src_bytes', 'dst_bytes']\n",
        "filter_res = ['class_n']\n",
        "X_train, y_train = train_data_df[filter_features], train_data_df[filter_res]"
      ],
      "metadata": {
        "id": "u_zUlEUcPstl"
      },
      "execution_count": null,
      "outputs": []
    },
    {
      "cell_type": "code",
      "source": [
        "# Split training data into training data and validation data. (80%, 20%)\n",
        "X_train, X_test, y_train, y_test = train_test_split(X_train, y_train, test_size=0.2, random_state=42)"
      ],
      "metadata": {
        "id": "2xNbA-m-VkaH"
      },
      "execution_count": null,
      "outputs": []
    },
    {
      "cell_type": "code",
      "source": [
        "print('Training set: ', X_train.shape, y_train.shape)\n",
        "print('Validation set: ', X_test.shape, y_test.shape)"
      ],
      "metadata": {
        "colab": {
          "base_uri": "https://localhost:8080/"
        },
        "id": "WLw2011HW7VR",
        "outputId": "151a42de-cb0c-4aa1-f1ce-0e0dcef99f40"
      },
      "execution_count": null,
      "outputs": [
        {
          "output_type": "stream",
          "name": "stdout",
          "text": [
            "Training set:  (20153, 6) (20153, 1)\n",
            "Validation set:  (5039, 6) (5039, 1)\n"
          ]
        }
      ]
    },
    {
      "cell_type": "code",
      "source": [
        "y_train.value_counts()"
      ],
      "metadata": {
        "colab": {
          "base_uri": "https://localhost:8080/"
        },
        "id": "gU5pXtLoZbxv",
        "outputId": "4f6f7195-09e6-4d7d-eb29-c403ffa0e25e"
      },
      "execution_count": null,
      "outputs": [
        {
          "output_type": "execute_result",
          "data": {
            "text/plain": [
              "class_n\n",
              "0.0        10775\n",
              "1.0         9378\n",
              "dtype: int64"
            ]
          },
          "metadata": {},
          "execution_count": 24
        }
      ]
    },
    {
      "cell_type": "code",
      "source": [
        "y_test.value_counts()"
      ],
      "metadata": {
        "colab": {
          "base_uri": "https://localhost:8080/"
        },
        "id": "LFpiBMP7ZoMT",
        "outputId": "4f3937e6-013c-49a2-f160-0cc27278ea36"
      },
      "execution_count": null,
      "outputs": [
        {
          "output_type": "execute_result",
          "data": {
            "text/plain": [
              "class_n\n",
              "0.0        2674\n",
              "1.0        2365\n",
              "dtype: int64"
            ]
          },
          "metadata": {},
          "execution_count": 25
        }
      ]
    },
    {
      "cell_type": "markdown",
      "source": [
        "##Null value check"
      ],
      "metadata": {
        "id": "R9S1H3KoaF9s"
      }
    },
    {
      "cell_type": "code",
      "source": [
        "X_train.isnull().any().sum()\n",
        "X_test.isnull().any().sum()\n",
        "y_train.isnull().any().sum()\n",
        "y_test.isnull().any().sum()"
      ],
      "metadata": {
        "colab": {
          "base_uri": "https://localhost:8080/"
        },
        "id": "2izJIcTFaJxC",
        "outputId": "40c74ada-59be-466a-9da7-6d016759d956"
      },
      "execution_count": null,
      "outputs": [
        {
          "output_type": "execute_result",
          "data": {
            "text/plain": [
              "0"
            ]
          },
          "metadata": {},
          "execution_count": 26
        }
      ]
    },
    {
      "cell_type": "markdown",
      "source": [
        "#Modeling"
      ],
      "metadata": {
        "id": "7_AayCAVUhOS"
      }
    },
    {
      "cell_type": "code",
      "source": [
        "random_forest = RandomForestClassifier(max_depth=2)\n",
        "random_forest.fit(X_train, y_train)"
      ],
      "metadata": {
        "colab": {
          "base_uri": "https://localhost:8080/",
          "height": 129
        },
        "id": "pqlcoU68Uiqf",
        "outputId": "9aea7a6d-3f58-49ee-9a46-b8e21239bc3c"
      },
      "execution_count": null,
      "outputs": [
        {
          "output_type": "stream",
          "name": "stderr",
          "text": [
            "<ipython-input-27-0622f5e158d6>:2: DataConversionWarning: A column-vector y was passed when a 1d array was expected. Please change the shape of y to (n_samples,), for example using ravel().\n",
            "  random_forest.fit(X_train, y_train)\n"
          ]
        },
        {
          "output_type": "execute_result",
          "data": {
            "text/plain": [
              "RandomForestClassifier(max_depth=2)"
            ],
            "text/html": [
              "<style>#sk-container-id-1 {color: black;background-color: white;}#sk-container-id-1 pre{padding: 0;}#sk-container-id-1 div.sk-toggleable {background-color: white;}#sk-container-id-1 label.sk-toggleable__label {cursor: pointer;display: block;width: 100%;margin-bottom: 0;padding: 0.3em;box-sizing: border-box;text-align: center;}#sk-container-id-1 label.sk-toggleable__label-arrow:before {content: \"▸\";float: left;margin-right: 0.25em;color: #696969;}#sk-container-id-1 label.sk-toggleable__label-arrow:hover:before {color: black;}#sk-container-id-1 div.sk-estimator:hover label.sk-toggleable__label-arrow:before {color: black;}#sk-container-id-1 div.sk-toggleable__content {max-height: 0;max-width: 0;overflow: hidden;text-align: left;background-color: #f0f8ff;}#sk-container-id-1 div.sk-toggleable__content pre {margin: 0.2em;color: black;border-radius: 0.25em;background-color: #f0f8ff;}#sk-container-id-1 input.sk-toggleable__control:checked~div.sk-toggleable__content {max-height: 200px;max-width: 100%;overflow: auto;}#sk-container-id-1 input.sk-toggleable__control:checked~label.sk-toggleable__label-arrow:before {content: \"▾\";}#sk-container-id-1 div.sk-estimator input.sk-toggleable__control:checked~label.sk-toggleable__label {background-color: #d4ebff;}#sk-container-id-1 div.sk-label input.sk-toggleable__control:checked~label.sk-toggleable__label {background-color: #d4ebff;}#sk-container-id-1 input.sk-hidden--visually {border: 0;clip: rect(1px 1px 1px 1px);clip: rect(1px, 1px, 1px, 1px);height: 1px;margin: -1px;overflow: hidden;padding: 0;position: absolute;width: 1px;}#sk-container-id-1 div.sk-estimator {font-family: monospace;background-color: #f0f8ff;border: 1px dotted black;border-radius: 0.25em;box-sizing: border-box;margin-bottom: 0.5em;}#sk-container-id-1 div.sk-estimator:hover {background-color: #d4ebff;}#sk-container-id-1 div.sk-parallel-item::after {content: \"\";width: 100%;border-bottom: 1px solid gray;flex-grow: 1;}#sk-container-id-1 div.sk-label:hover label.sk-toggleable__label {background-color: #d4ebff;}#sk-container-id-1 div.sk-serial::before {content: \"\";position: absolute;border-left: 1px solid gray;box-sizing: border-box;top: 0;bottom: 0;left: 50%;z-index: 0;}#sk-container-id-1 div.sk-serial {display: flex;flex-direction: column;align-items: center;background-color: white;padding-right: 0.2em;padding-left: 0.2em;position: relative;}#sk-container-id-1 div.sk-item {position: relative;z-index: 1;}#sk-container-id-1 div.sk-parallel {display: flex;align-items: stretch;justify-content: center;background-color: white;position: relative;}#sk-container-id-1 div.sk-item::before, #sk-container-id-1 div.sk-parallel-item::before {content: \"\";position: absolute;border-left: 1px solid gray;box-sizing: border-box;top: 0;bottom: 0;left: 50%;z-index: -1;}#sk-container-id-1 div.sk-parallel-item {display: flex;flex-direction: column;z-index: 1;position: relative;background-color: white;}#sk-container-id-1 div.sk-parallel-item:first-child::after {align-self: flex-end;width: 50%;}#sk-container-id-1 div.sk-parallel-item:last-child::after {align-self: flex-start;width: 50%;}#sk-container-id-1 div.sk-parallel-item:only-child::after {width: 0;}#sk-container-id-1 div.sk-dashed-wrapped {border: 1px dashed gray;margin: 0 0.4em 0.5em 0.4em;box-sizing: border-box;padding-bottom: 0.4em;background-color: white;}#sk-container-id-1 div.sk-label label {font-family: monospace;font-weight: bold;display: inline-block;line-height: 1.2em;}#sk-container-id-1 div.sk-label-container {text-align: center;}#sk-container-id-1 div.sk-container {/* jupyter's `normalize.less` sets `[hidden] { display: none; }` but bootstrap.min.css set `[hidden] { display: none !important; }` so we also need the `!important` here to be able to override the default hidden behavior on the sphinx rendered scikit-learn.org. See: https://github.com/scikit-learn/scikit-learn/issues/21755 */display: inline-block !important;position: relative;}#sk-container-id-1 div.sk-text-repr-fallback {display: none;}</style><div id=\"sk-container-id-1\" class=\"sk-top-container\"><div class=\"sk-text-repr-fallback\"><pre>RandomForestClassifier(max_depth=2)</pre><b>In a Jupyter environment, please rerun this cell to show the HTML representation or trust the notebook. <br />On GitHub, the HTML representation is unable to render, please try loading this page with nbviewer.org.</b></div><div class=\"sk-container\" hidden><div class=\"sk-item\"><div class=\"sk-estimator sk-toggleable\"><input class=\"sk-toggleable__control sk-hidden--visually\" id=\"sk-estimator-id-1\" type=\"checkbox\" checked><label for=\"sk-estimator-id-1\" class=\"sk-toggleable__label sk-toggleable__label-arrow\">RandomForestClassifier</label><div class=\"sk-toggleable__content\"><pre>RandomForestClassifier(max_depth=2)</pre></div></div></div></div></div>"
            ]
          },
          "metadata": {},
          "execution_count": 27
        }
      ]
    },
    {
      "cell_type": "code",
      "source": [
        "# Predict the result of class\n",
        "y_test_predict = random_forest.predict(X_test)"
      ],
      "metadata": {
        "id": "nMIFpQ0ma7Ds"
      },
      "execution_count": null,
      "outputs": []
    },
    {
      "cell_type": "code",
      "source": [
        "accuracy_score(y_test, y_test_predict)"
      ],
      "metadata": {
        "colab": {
          "base_uri": "https://localhost:8080/"
        },
        "id": "-ZyjS0hKbXXi",
        "outputId": "bebab112-2c86-4269-9c49-41cceb47166f"
      },
      "execution_count": null,
      "outputs": [
        {
          "output_type": "execute_result",
          "data": {
            "text/plain": [
              "0.9531653105774955"
            ]
          },
          "metadata": {},
          "execution_count": 29
        }
      ]
    },
    {
      "cell_type": "markdown",
      "source": [
        "#Optimization\n",
        "*   Method 1: GridSearchCV\n",
        "\n"
      ],
      "metadata": {
        "id": "LxNhU-eZUjym"
      }
    },
    {
      "cell_type": "code",
      "source": [
        "# define a new random forest classifier\n",
        "new_random_forest = RandomForestClassifier()"
      ],
      "metadata": {
        "id": "oUZODUaVdv3U"
      },
      "execution_count": null,
      "outputs": []
    },
    {
      "cell_type": "code",
      "source": [
        "# define a range of hyperparameters to test\n",
        "param_grid = {'n_estimators': list(range(2, 10)),\n",
        "              'max_depth': list(range(16)),\n",
        "              'min_samples_split': list(range(2, 11, 2))\n",
        "              #'min_samples_leaf': list(range(1, 9, 2))\n",
        "              }"
      ],
      "metadata": {
        "id": "KoC_ajc5UmrZ"
      },
      "execution_count": null,
      "outputs": []
    },
    {
      "cell_type": "code",
      "source": [
        "# create a grid search object\n",
        "grid_search = GridSearchCV(estimator=new_random_forest, param_grid=param_grid, cv=5)"
      ],
      "metadata": {
        "id": "ZvW_ryuadoyF"
      },
      "execution_count": null,
      "outputs": []
    },
    {
      "cell_type": "code",
      "source": [
        "# fit the grid search object to the data\n",
        "grid_search.fit(X_train, np.ravel(y_train))"
      ],
      "metadata": {
        "colab": {
          "base_uri": "https://localhost:8080/",
          "height": 1000
        },
        "id": "AKbkN5KAeEqv",
        "outputId": "fe3f2b30-c4e5-4267-d588-5b08d048f716"
      },
      "execution_count": null,
      "outputs": [
        {
          "output_type": "stream",
          "name": "stderr",
          "text": [
            "/usr/local/lib/python3.9/dist-packages/sklearn/model_selection/_validation.py:378: FitFailedWarning: \n",
            "200 fits failed out of a total of 3200.\n",
            "The score on these train-test partitions for these parameters will be set to nan.\n",
            "If these failures are not expected, you can try to debug them by setting error_score='raise'.\n",
            "\n",
            "Below are more details about the failures:\n",
            "--------------------------------------------------------------------------------\n",
            "200 fits failed with the following error:\n",
            "Traceback (most recent call last):\n",
            "  File \"/usr/local/lib/python3.9/dist-packages/sklearn/model_selection/_validation.py\", line 686, in _fit_and_score\n",
            "    estimator.fit(X_train, y_train, **fit_params)\n",
            "  File \"/usr/local/lib/python3.9/dist-packages/sklearn/ensemble/_forest.py\", line 340, in fit\n",
            "    self._validate_params()\n",
            "  File \"/usr/local/lib/python3.9/dist-packages/sklearn/base.py\", line 581, in _validate_params\n",
            "    validate_parameter_constraints(\n",
            "  File \"/usr/local/lib/python3.9/dist-packages/sklearn/utils/_param_validation.py\", line 97, in validate_parameter_constraints\n",
            "    raise InvalidParameterError(\n",
            "sklearn.utils._param_validation.InvalidParameterError: The 'max_depth' parameter of RandomForestClassifier must be an int in the range [1, inf) or None. Got 0 instead.\n",
            "\n",
            "  warnings.warn(some_fits_failed_message, FitFailedWarning)\n",
            "/usr/local/lib/python3.9/dist-packages/sklearn/model_selection/_search.py:952: UserWarning: One or more of the test scores are non-finite: [       nan        nan        nan        nan        nan        nan\n",
            "        nan        nan        nan        nan        nan        nan\n",
            "        nan        nan        nan        nan        nan        nan\n",
            "        nan        nan        nan        nan        nan        nan\n",
            "        nan        nan        nan        nan        nan        nan\n",
            "        nan        nan        nan        nan        nan        nan\n",
            "        nan        nan        nan        nan 0.90616908 0.89708625\n",
            " 0.92095449 0.91450304 0.89773126 0.91023574 0.90859829 0.93033242\n",
            " 0.87351026 0.90333957 0.91867282 0.91941776 0.92140073 0.93251637\n",
            " 0.90834982 0.91430462 0.90973824 0.90368596 0.91222115 0.92780174\n",
            " 0.91013854 0.9207553  0.91395664 0.92775298 0.90577058 0.83745164\n",
            " 0.91911838 0.90790383 0.92497354 0.9050257  0.92244394 0.9302332\n",
            " 0.92452711 0.90661468 0.90973957 0.9186222  0.91772948 0.91971277\n",
            " 0.92095449 0.92105421 0.9358411  0.93142427 0.94060398 0.94368073\n",
            " 0.94382951 0.9424895  0.94199343 0.94000817 0.93772586 0.92780319\n",
            " 0.93842122 0.93638648 0.94502051 0.94377995 0.94516966 0.94268848\n",
            " 0.91882181 0.94060416 0.92730693 0.93946256 0.93951303 0.94174543\n",
            " 0.93956244 0.94387917 0.93489854 0.93787514 0.93107586 0.93207022\n",
            " 0.94159613 0.94531841 0.93311119 0.9436804  0.93678354 0.94229134\n",
            " 0.93926415 0.93658554 0.93861863 0.938669   0.94333362 0.93822198\n",
            " 0.94760024 0.94283677 0.94626119 0.94923806 0.94908951 0.94779926\n",
            " 0.95127234 0.94874225 0.94874177 0.95127254 0.94958544 0.94204293\n",
            " 0.94893979 0.94497071 0.94596323 0.94616163 0.94710465 0.94814601\n",
            " 0.94551686 0.94839515 0.94616153 0.95003229 0.94621119 0.9488415\n",
            " 0.9525132  0.94740232 0.95137187 0.9454179  0.9524633  0.94879138\n",
            " 0.94903974 0.94675701 0.94581437 0.94114979 0.9525627  0.94283627\n",
            " 0.94894023 0.94695572 0.94794798 0.95057782 0.95425032 0.95410114\n",
            " 0.95747478 0.95424957 0.95415029 0.9529101  0.95509315 0.95836816\n",
            " 0.96159423 0.95320785 0.95658226 0.95519272 0.9560853  0.95871565\n",
            " 0.95519246 0.95424979 0.95861602 0.95484526 0.95712776 0.95985656\n",
            " 0.95529174 0.95340592 0.95896387 0.95712817 0.9565822  0.95807072\n",
            " 0.95682977 0.95449806 0.95623447 0.95668109 0.95588705 0.95752505\n",
            " 0.96109699 0.95365429 0.9606012  0.95752438 0.95514266 0.95454778\n",
            " 0.95697858 0.9615448  0.96720028 0.96427386 0.96739876 0.95881453\n",
            " 0.96427374 0.9642738  0.96610971 0.96179217 0.96789448 0.9691365\n",
            " 0.960006   0.97082339 0.96204032 0.96511641 0.96620799 0.96958175\n",
            " 0.96998021 0.96501723 0.96462006 0.9638761  0.96099806 0.96606014\n",
            " 0.96303252 0.96918549 0.96382606 0.95965882 0.96601066 0.97280853\n",
            " 0.96576235 0.96610871 0.9627846  0.96050215 0.96610854 0.96720097\n",
            " 0.96447241 0.96114672 0.96288389 0.96258596 0.96938519 0.96179218\n",
            " 0.97404844 0.97896121 0.97782018 0.98397241 0.97697679 0.97211335\n",
            " 0.98382358 0.98034967 0.97464377 0.97345311 0.97707581 0.9684914\n",
            " 0.97226214 0.97970468 0.98342667 0.97821631 0.96928408 0.97647872\n",
            " 0.98054829 0.97255992 0.98382368 0.9761818  0.9794564  0.97653024\n",
            " 0.97568642 0.96978132 0.97628225 0.97950705 0.97742212 0.97424664\n",
            " 0.980052   0.97226236 0.97886202 0.98516364 0.97166779 0.97613226\n",
            " 0.97667798 0.97260955 0.97494118 0.98134293 0.97841616 0.98536199\n",
            " 0.98754512 0.98322759 0.98635429 0.98794196 0.98655273 0.98635428\n",
            " 0.98307889 0.98620538 0.98471711 0.98610608 0.98799175 0.9876942\n",
            " 0.986652   0.98630449 0.98625495 0.98565965 0.98635414 0.98640395\n",
            " 0.98451867 0.98744587 0.98670171 0.98610639 0.9865032  0.98675139\n",
            " 0.98173998 0.98799169 0.9856099  0.98640383 0.98590766 0.98640398\n",
            " 0.98446861 0.98531218 0.98590776 0.98506416 0.97752157 0.9836256\n",
            " 0.98585818 0.98670167 0.98997639 0.99002616 0.99067111 0.98987709\n",
            " 0.99077036 0.99002596 0.98938102 0.99047276 0.98412191 0.98575905\n",
            " 0.990175   0.98992675 0.98948041 0.99037334 0.99072082 0.99101849\n",
            " 0.98908336 0.98764449 0.98417133 0.98843812 0.98863679 0.98982744\n",
            " 0.98898429 0.98814053 0.98769414 0.98853742 0.98441945 0.98918253\n",
            " 0.99042314 0.99057189 0.98967884 0.9907208  0.98645325 0.98997647\n",
            " 0.98799166 0.98972851 0.99072082 0.98938092 0.98997654 0.9899268\n",
            " 0.99022456 0.99126657 0.98923203 0.99067121 0.99047273 0.99007585\n",
            " 0.99096886 0.9905224  0.99022453 0.99022451 0.99027427 0.99091921\n",
            " 0.99106814 0.99141544 0.99126659 0.9916635  0.98982752 0.9905223\n",
            " 0.99082002 0.99072074 0.99091925 0.99106814 0.99067113 0.99042313\n",
            " 0.98913305 0.98853749 0.99136582 0.99052235 0.99101849 0.99101849\n",
            " 0.99116742 0.99106807 0.98828958 0.99017493 0.9911177  0.99017499\n",
            " 0.99111772 0.98888502 0.99101844 0.99101848 0.99121695 0.99086952\n",
            " 0.99136581 0.99166352 0.99146507 0.99151469 0.99171317 0.99146502\n",
            " 0.9909192  0.99136581 0.99141545 0.99141546 0.99121693 0.99151469\n",
            " 0.99196126 0.99101845 0.99012536 0.99141548 0.9912666  0.99121694\n",
            " 0.9913162  0.9913162  0.99116737 0.99106807 0.99086962 0.98933148\n",
            " 0.99081997 0.99096887 0.99062152 0.99116737 0.99116731 0.99151469\n",
            " 0.99007572 0.98987708 0.99121694 0.99141546 0.99106814 0.9904726\n",
            " 0.99106808 0.99111766 0.99101856 0.99181246 0.9913658  0.9915643\n",
            " 0.9917628  0.99201091 0.99181236 0.99201091 0.99077033 0.99111773\n",
            " 0.99156426 0.99151469 0.9913162  0.99196123 0.99181242 0.99161393\n",
            " 0.99101853 0.99077025 0.99161393 0.99141543 0.99131621 0.99151469\n",
            " 0.99156428 0.99186201 0.99101844 0.99096885 0.99126653 0.9912666\n",
            " 0.99166357 0.99106806 0.99171316 0.99161394 0.99116736 0.99037344\n",
            " 0.99111771 0.99116735 0.9916139  0.99086959 0.99131618 0.99116729\n",
            " 0.99101851 0.99181244 0.99151466 0.99176273 0.99161389 0.99196125\n",
            " 0.99186199 0.99156432 0.99151468 0.99146507 0.9915643  0.99131618\n",
            " 0.99196131 0.99156427 0.99186204 0.99166354 0.99091927 0.99106811\n",
            " 0.99201094 0.99131616 0.99146503 0.99151472 0.99176278 0.9915643\n",
            " 0.99042307 0.99121696 0.9910184  0.99116736 0.99146508 0.99141546\n",
            " 0.99171319 0.99146507 0.9904726  0.99091919 0.99096886 0.99151469\n",
            " 0.99116732 0.99131617 0.99151464 0.99121695 0.99111775 0.99136586\n",
            " 0.9909192  0.99220941 0.9915643  0.99136576 0.99191165 0.99166353\n",
            " 0.99126658 0.99141545 0.99151464 0.99186201 0.99156427 0.99171317\n",
            " 0.99215977 0.9915643  0.98997633 0.99156425 0.99146503 0.99136579\n",
            " 0.99161395 0.99156432 0.99201092 0.99171314 0.99072071 0.99101847\n",
            " 0.99161389 0.991862   0.99196132 0.99201087 0.99166358 0.99116729\n",
            " 0.99096886 0.99111772 0.99126656 0.99136586 0.99171317 0.99176278\n",
            " 0.99161389 0.9917628  0.99111771 0.99151468 0.99151466 0.99181237\n",
            " 0.99191167 0.99186203 0.99171312 0.99191168 0.99091921 0.99121693\n",
            " 0.99156435 0.99186206 0.99176273 0.9918124  0.99220936 0.99191162\n",
            " 0.99002597 0.99116729 0.99146503 0.99211013 0.99156431 0.99206048\n",
            " 0.99156433 0.99186204 0.99022449 0.99086961 0.99126662 0.99131615\n",
            " 0.99161394 0.99166353 0.99171313 0.99161393 0.99077039 0.99091923\n",
            " 0.99111778 0.99166353 0.99141544 0.99136576 0.99196126 0.99186203\n",
            " 0.99096894 0.99101845 0.99156428 0.99156431 0.99166353 0.99206055\n",
            " 0.99181242 0.99146503 0.99116731 0.9915643  0.9915643  0.99191164\n",
            " 0.99191168 0.99151468 0.9917628  0.99191164 0.99077039 0.99161393\n",
            " 0.99136584 0.99156433 0.99146504 0.9917628  0.99161393 0.99176278\n",
            " 0.99047272 0.99141545 0.99161396 0.99141544 0.99121695 0.9916635\n",
            " 0.99151463 0.99196126 0.99007573 0.99131615 0.99136581 0.99136581\n",
            " 0.99121696 0.9913658  0.9917628  0.99166353]\n",
            "  warnings.warn(\n"
          ]
        },
        {
          "output_type": "execute_result",
          "data": {
            "text/plain": [
              "GridSearchCV(cv=5, estimator=RandomForestClassifier(),\n",
              "             param_grid={'max_depth': [0, 1, 2, 3, 4, 5, 6, 7, 8, 9, 10, 11, 12,\n",
              "                                       13, 14, 15],\n",
              "                         'min_samples_split': [2, 4, 6, 8, 10],\n",
              "                         'n_estimators': [2, 3, 4, 5, 6, 7, 8, 9]})"
            ],
            "text/html": [
              "<style>#sk-container-id-2 {color: black;background-color: white;}#sk-container-id-2 pre{padding: 0;}#sk-container-id-2 div.sk-toggleable {background-color: white;}#sk-container-id-2 label.sk-toggleable__label {cursor: pointer;display: block;width: 100%;margin-bottom: 0;padding: 0.3em;box-sizing: border-box;text-align: center;}#sk-container-id-2 label.sk-toggleable__label-arrow:before {content: \"▸\";float: left;margin-right: 0.25em;color: #696969;}#sk-container-id-2 label.sk-toggleable__label-arrow:hover:before {color: black;}#sk-container-id-2 div.sk-estimator:hover label.sk-toggleable__label-arrow:before {color: black;}#sk-container-id-2 div.sk-toggleable__content {max-height: 0;max-width: 0;overflow: hidden;text-align: left;background-color: #f0f8ff;}#sk-container-id-2 div.sk-toggleable__content pre {margin: 0.2em;color: black;border-radius: 0.25em;background-color: #f0f8ff;}#sk-container-id-2 input.sk-toggleable__control:checked~div.sk-toggleable__content {max-height: 200px;max-width: 100%;overflow: auto;}#sk-container-id-2 input.sk-toggleable__control:checked~label.sk-toggleable__label-arrow:before {content: \"▾\";}#sk-container-id-2 div.sk-estimator input.sk-toggleable__control:checked~label.sk-toggleable__label {background-color: #d4ebff;}#sk-container-id-2 div.sk-label input.sk-toggleable__control:checked~label.sk-toggleable__label {background-color: #d4ebff;}#sk-container-id-2 input.sk-hidden--visually {border: 0;clip: rect(1px 1px 1px 1px);clip: rect(1px, 1px, 1px, 1px);height: 1px;margin: -1px;overflow: hidden;padding: 0;position: absolute;width: 1px;}#sk-container-id-2 div.sk-estimator {font-family: monospace;background-color: #f0f8ff;border: 1px dotted black;border-radius: 0.25em;box-sizing: border-box;margin-bottom: 0.5em;}#sk-container-id-2 div.sk-estimator:hover {background-color: #d4ebff;}#sk-container-id-2 div.sk-parallel-item::after {content: \"\";width: 100%;border-bottom: 1px solid gray;flex-grow: 1;}#sk-container-id-2 div.sk-label:hover label.sk-toggleable__label {background-color: #d4ebff;}#sk-container-id-2 div.sk-serial::before {content: \"\";position: absolute;border-left: 1px solid gray;box-sizing: border-box;top: 0;bottom: 0;left: 50%;z-index: 0;}#sk-container-id-2 div.sk-serial {display: flex;flex-direction: column;align-items: center;background-color: white;padding-right: 0.2em;padding-left: 0.2em;position: relative;}#sk-container-id-2 div.sk-item {position: relative;z-index: 1;}#sk-container-id-2 div.sk-parallel {display: flex;align-items: stretch;justify-content: center;background-color: white;position: relative;}#sk-container-id-2 div.sk-item::before, #sk-container-id-2 div.sk-parallel-item::before {content: \"\";position: absolute;border-left: 1px solid gray;box-sizing: border-box;top: 0;bottom: 0;left: 50%;z-index: -1;}#sk-container-id-2 div.sk-parallel-item {display: flex;flex-direction: column;z-index: 1;position: relative;background-color: white;}#sk-container-id-2 div.sk-parallel-item:first-child::after {align-self: flex-end;width: 50%;}#sk-container-id-2 div.sk-parallel-item:last-child::after {align-self: flex-start;width: 50%;}#sk-container-id-2 div.sk-parallel-item:only-child::after {width: 0;}#sk-container-id-2 div.sk-dashed-wrapped {border: 1px dashed gray;margin: 0 0.4em 0.5em 0.4em;box-sizing: border-box;padding-bottom: 0.4em;background-color: white;}#sk-container-id-2 div.sk-label label {font-family: monospace;font-weight: bold;display: inline-block;line-height: 1.2em;}#sk-container-id-2 div.sk-label-container {text-align: center;}#sk-container-id-2 div.sk-container {/* jupyter's `normalize.less` sets `[hidden] { display: none; }` but bootstrap.min.css set `[hidden] { display: none !important; }` so we also need the `!important` here to be able to override the default hidden behavior on the sphinx rendered scikit-learn.org. See: https://github.com/scikit-learn/scikit-learn/issues/21755 */display: inline-block !important;position: relative;}#sk-container-id-2 div.sk-text-repr-fallback {display: none;}</style><div id=\"sk-container-id-2\" class=\"sk-top-container\"><div class=\"sk-text-repr-fallback\"><pre>GridSearchCV(cv=5, estimator=RandomForestClassifier(),\n",
              "             param_grid={&#x27;max_depth&#x27;: [0, 1, 2, 3, 4, 5, 6, 7, 8, 9, 10, 11, 12,\n",
              "                                       13, 14, 15],\n",
              "                         &#x27;min_samples_split&#x27;: [2, 4, 6, 8, 10],\n",
              "                         &#x27;n_estimators&#x27;: [2, 3, 4, 5, 6, 7, 8, 9]})</pre><b>In a Jupyter environment, please rerun this cell to show the HTML representation or trust the notebook. <br />On GitHub, the HTML representation is unable to render, please try loading this page with nbviewer.org.</b></div><div class=\"sk-container\" hidden><div class=\"sk-item sk-dashed-wrapped\"><div class=\"sk-label-container\"><div class=\"sk-label sk-toggleable\"><input class=\"sk-toggleable__control sk-hidden--visually\" id=\"sk-estimator-id-2\" type=\"checkbox\" ><label for=\"sk-estimator-id-2\" class=\"sk-toggleable__label sk-toggleable__label-arrow\">GridSearchCV</label><div class=\"sk-toggleable__content\"><pre>GridSearchCV(cv=5, estimator=RandomForestClassifier(),\n",
              "             param_grid={&#x27;max_depth&#x27;: [0, 1, 2, 3, 4, 5, 6, 7, 8, 9, 10, 11, 12,\n",
              "                                       13, 14, 15],\n",
              "                         &#x27;min_samples_split&#x27;: [2, 4, 6, 8, 10],\n",
              "                         &#x27;n_estimators&#x27;: [2, 3, 4, 5, 6, 7, 8, 9]})</pre></div></div></div><div class=\"sk-parallel\"><div class=\"sk-parallel-item\"><div class=\"sk-item\"><div class=\"sk-label-container\"><div class=\"sk-label sk-toggleable\"><input class=\"sk-toggleable__control sk-hidden--visually\" id=\"sk-estimator-id-3\" type=\"checkbox\" ><label for=\"sk-estimator-id-3\" class=\"sk-toggleable__label sk-toggleable__label-arrow\">estimator: RandomForestClassifier</label><div class=\"sk-toggleable__content\"><pre>RandomForestClassifier()</pre></div></div></div><div class=\"sk-serial\"><div class=\"sk-item\"><div class=\"sk-estimator sk-toggleable\"><input class=\"sk-toggleable__control sk-hidden--visually\" id=\"sk-estimator-id-4\" type=\"checkbox\" ><label for=\"sk-estimator-id-4\" class=\"sk-toggleable__label sk-toggleable__label-arrow\">RandomForestClassifier</label><div class=\"sk-toggleable__content\"><pre>RandomForestClassifier()</pre></div></div></div></div></div></div></div></div></div></div>"
            ]
          },
          "metadata": {},
          "execution_count": 33
        }
      ]
    },
    {
      "cell_type": "code",
      "source": [
        "# print the best hyperparameters\n",
        "print('Best hyperparameters:', grid_search.best_params_)"
      ],
      "metadata": {
        "colab": {
          "base_uri": "https://localhost:8080/"
        },
        "id": "X8zkhNsueNlQ",
        "outputId": "3b8c6133-9097-497e-819a-bb3b330d02b1"
      },
      "execution_count": null,
      "outputs": [
        {
          "output_type": "stream",
          "name": "stdout",
          "text": [
            "Best hyperparameters: {'max_depth': 13, 'min_samples_split': 2, 'n_estimators': 5}\n"
          ]
        }
      ]
    },
    {
      "cell_type": "code",
      "source": [
        "best_model = grid_search.best_estimator_"
      ],
      "metadata": {
        "id": "hrF6beraeyuE"
      },
      "execution_count": null,
      "outputs": []
    },
    {
      "cell_type": "code",
      "source": [
        "accuracy = best_model.score(X_test, y_test)\n",
        "print('Test set accuracy:', accuracy)"
      ],
      "metadata": {
        "colab": {
          "base_uri": "https://localhost:8080/"
        },
        "id": "8Cx6EAXDsCf3",
        "outputId": "0ec765fc-392c-44c7-95ef-9fb136518525"
      },
      "execution_count": null,
      "outputs": [
        {
          "output_type": "stream",
          "name": "stdout",
          "text": [
            "Test set accuracy: 0.9928557253423298\n"
          ]
        }
      ]
    },
    {
      "cell_type": "markdown",
      "source": [
        "#Outcome with hyperparameters\n",
        "*   **n_estimators** is the number of trees in the forest\n",
        "*   **max_depth** is the maximum depth of a tree\n",
        "*   **min_samples_split** is the minimum number of samples in a node\n",
        "\n"
      ],
      "metadata": {
        "id": "IeK0QCUEthO_"
      }
    },
    {
      "cell_type": "code",
      "source": [
        "best_random_forest = RandomForestClassifier(\n",
        "                        max_depth=13,\n",
        "                        min_samples_split=2,\n",
        "                        n_estimators=5\n",
        "                      )"
      ],
      "metadata": {
        "id": "sWWQkxW8tjRz"
      },
      "execution_count": null,
      "outputs": []
    },
    {
      "cell_type": "code",
      "source": [
        "best_random_forest.fit(X_train, y_train)"
      ],
      "metadata": {
        "colab": {
          "base_uri": "https://localhost:8080/",
          "height": 129
        },
        "id": "f2y1jdvjuFdE",
        "outputId": "63926f0e-4f27-460c-9204-99e0cf08494b"
      },
      "execution_count": null,
      "outputs": [
        {
          "output_type": "stream",
          "name": "stderr",
          "text": [
            "<ipython-input-46-c1f0900ca9fb>:1: DataConversionWarning: A column-vector y was passed when a 1d array was expected. Please change the shape of y to (n_samples,), for example using ravel().\n",
            "  best_random_forest.fit(X_train, y_train)\n"
          ]
        },
        {
          "output_type": "execute_result",
          "data": {
            "text/plain": [
              "RandomForestClassifier(max_depth=13, n_estimators=5)"
            ],
            "text/html": [
              "<style>#sk-container-id-5 {color: black;background-color: white;}#sk-container-id-5 pre{padding: 0;}#sk-container-id-5 div.sk-toggleable {background-color: white;}#sk-container-id-5 label.sk-toggleable__label {cursor: pointer;display: block;width: 100%;margin-bottom: 0;padding: 0.3em;box-sizing: border-box;text-align: center;}#sk-container-id-5 label.sk-toggleable__label-arrow:before {content: \"▸\";float: left;margin-right: 0.25em;color: #696969;}#sk-container-id-5 label.sk-toggleable__label-arrow:hover:before {color: black;}#sk-container-id-5 div.sk-estimator:hover label.sk-toggleable__label-arrow:before {color: black;}#sk-container-id-5 div.sk-toggleable__content {max-height: 0;max-width: 0;overflow: hidden;text-align: left;background-color: #f0f8ff;}#sk-container-id-5 div.sk-toggleable__content pre {margin: 0.2em;color: black;border-radius: 0.25em;background-color: #f0f8ff;}#sk-container-id-5 input.sk-toggleable__control:checked~div.sk-toggleable__content {max-height: 200px;max-width: 100%;overflow: auto;}#sk-container-id-5 input.sk-toggleable__control:checked~label.sk-toggleable__label-arrow:before {content: \"▾\";}#sk-container-id-5 div.sk-estimator input.sk-toggleable__control:checked~label.sk-toggleable__label {background-color: #d4ebff;}#sk-container-id-5 div.sk-label input.sk-toggleable__control:checked~label.sk-toggleable__label {background-color: #d4ebff;}#sk-container-id-5 input.sk-hidden--visually {border: 0;clip: rect(1px 1px 1px 1px);clip: rect(1px, 1px, 1px, 1px);height: 1px;margin: -1px;overflow: hidden;padding: 0;position: absolute;width: 1px;}#sk-container-id-5 div.sk-estimator {font-family: monospace;background-color: #f0f8ff;border: 1px dotted black;border-radius: 0.25em;box-sizing: border-box;margin-bottom: 0.5em;}#sk-container-id-5 div.sk-estimator:hover {background-color: #d4ebff;}#sk-container-id-5 div.sk-parallel-item::after {content: \"\";width: 100%;border-bottom: 1px solid gray;flex-grow: 1;}#sk-container-id-5 div.sk-label:hover label.sk-toggleable__label {background-color: #d4ebff;}#sk-container-id-5 div.sk-serial::before {content: \"\";position: absolute;border-left: 1px solid gray;box-sizing: border-box;top: 0;bottom: 0;left: 50%;z-index: 0;}#sk-container-id-5 div.sk-serial {display: flex;flex-direction: column;align-items: center;background-color: white;padding-right: 0.2em;padding-left: 0.2em;position: relative;}#sk-container-id-5 div.sk-item {position: relative;z-index: 1;}#sk-container-id-5 div.sk-parallel {display: flex;align-items: stretch;justify-content: center;background-color: white;position: relative;}#sk-container-id-5 div.sk-item::before, #sk-container-id-5 div.sk-parallel-item::before {content: \"\";position: absolute;border-left: 1px solid gray;box-sizing: border-box;top: 0;bottom: 0;left: 50%;z-index: -1;}#sk-container-id-5 div.sk-parallel-item {display: flex;flex-direction: column;z-index: 1;position: relative;background-color: white;}#sk-container-id-5 div.sk-parallel-item:first-child::after {align-self: flex-end;width: 50%;}#sk-container-id-5 div.sk-parallel-item:last-child::after {align-self: flex-start;width: 50%;}#sk-container-id-5 div.sk-parallel-item:only-child::after {width: 0;}#sk-container-id-5 div.sk-dashed-wrapped {border: 1px dashed gray;margin: 0 0.4em 0.5em 0.4em;box-sizing: border-box;padding-bottom: 0.4em;background-color: white;}#sk-container-id-5 div.sk-label label {font-family: monospace;font-weight: bold;display: inline-block;line-height: 1.2em;}#sk-container-id-5 div.sk-label-container {text-align: center;}#sk-container-id-5 div.sk-container {/* jupyter's `normalize.less` sets `[hidden] { display: none; }` but bootstrap.min.css set `[hidden] { display: none !important; }` so we also need the `!important` here to be able to override the default hidden behavior on the sphinx rendered scikit-learn.org. See: https://github.com/scikit-learn/scikit-learn/issues/21755 */display: inline-block !important;position: relative;}#sk-container-id-5 div.sk-text-repr-fallback {display: none;}</style><div id=\"sk-container-id-5\" class=\"sk-top-container\"><div class=\"sk-text-repr-fallback\"><pre>RandomForestClassifier(max_depth=13, n_estimators=5)</pre><b>In a Jupyter environment, please rerun this cell to show the HTML representation or trust the notebook. <br />On GitHub, the HTML representation is unable to render, please try loading this page with nbviewer.org.</b></div><div class=\"sk-container\" hidden><div class=\"sk-item\"><div class=\"sk-estimator sk-toggleable\"><input class=\"sk-toggleable__control sk-hidden--visually\" id=\"sk-estimator-id-7\" type=\"checkbox\" checked><label for=\"sk-estimator-id-7\" class=\"sk-toggleable__label sk-toggleable__label-arrow\">RandomForestClassifier</label><div class=\"sk-toggleable__content\"><pre>RandomForestClassifier(max_depth=13, n_estimators=5)</pre></div></div></div></div></div>"
            ]
          },
          "metadata": {},
          "execution_count": 46
        }
      ]
    },
    {
      "cell_type": "code",
      "source": [
        "# Predict the result of class\n",
        "best_y_test_predict = best_random_forest.predict(X_test)\n",
        "print(best_y_test_predict.shape)\n",
        "print(y_test.shape)"
      ],
      "metadata": {
        "colab": {
          "base_uri": "https://localhost:8080/"
        },
        "id": "tfUQW5i3vJMW",
        "outputId": "a3b3cad8-23b5-4d3c-d668-7ea676c55b29"
      },
      "execution_count": null,
      "outputs": [
        {
          "output_type": "stream",
          "name": "stdout",
          "text": [
            "(5039,)\n",
            "(5039, 1)\n"
          ]
        }
      ]
    },
    {
      "cell_type": "code",
      "source": [
        "accuracy_score(y_test, best_y_test_predict)"
      ],
      "metadata": {
        "colab": {
          "base_uri": "https://localhost:8080/"
        },
        "id": "3nfUA65ovL5y",
        "outputId": "df92f757-d4ba-4b8d-9589-dab98f5d67f0"
      },
      "execution_count": null,
      "outputs": [
        {
          "output_type": "execute_result",
          "data": {
            "text/plain": [
              "0.9926572732685056"
            ]
          },
          "metadata": {},
          "execution_count": 48
        }
      ]
    }
  ]
}